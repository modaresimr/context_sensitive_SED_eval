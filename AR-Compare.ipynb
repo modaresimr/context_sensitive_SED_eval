{
 "cells": [
  {
   "cell_type": "markdown",
   "metadata": {},
   "source": [
    "# Display the evaluation information with your saved runs\n",
    "\n",
    "You can test your own codes by adding a folder in saved folder containing real.tsv and pred.tsv\n",
    "the tsv format is:\n",
    "```\n",
    "filename    onset   offset     event_label\n",
    "```\n",
    "Then by running the following cell you will see your folder\n",
    "\n",
    "For demo some saved data are presented in the saved folder"
   ]
  },
  {
   "cell_type": "markdown",
   "metadata": {},
   "source": [
    "# the following code will display the results on AR (on similar dataset to the paper) \n",
    "The result maybe a bit different from the result on the paper because in the paper it has been run several time and the result here is only one run. If you want to see full result please run the pipeline folder"
   ]
  },
  {
   "cell_type": "code",
   "execution_count": 1,
   "metadata": {
    "ExecuteTime": {
     "end_time": "2021-10-03T22:12:53.921709Z",
     "start_time": "2021-10-03T22:12:53.110595Z"
    }
   },
   "outputs": [
    {
     "data": {
      "application/vnd.jupyter.widget-view+json": {
       "model_id": "e8b252cd45d44b23add980fb8c529a93",
       "version_major": 2,
       "version_minor": 0
      },
      "text/plain": [
       "interactive(children=(Dropdown(description='file', options=('eval', 'train'), value='eval'), FloatSlider(value…"
      ]
     },
     "metadata": {},
     "output_type": "display_data"
    }
   ],
   "source": [
    "import matplotlib.pyplot as plt\n",
    "import numpy as np\n",
    "import itertools\n",
    "import os\n",
    "import pandas as pd\n",
    "import math\n",
    "import pandas\n",
    "import numpy as np\n",
    "import itertools\n",
    "from matplotlib.pylab import plt\n",
    "\n",
    "rootFolder='data/strong/'\n",
    "debug=0 \n",
    "kwargs={\n",
    "    'theta_t':0,\n",
    "    'theta_f':1,\n",
    "    'beta':2,\n",
    "    'show_sed':False,\n",
    "    'debug':[] # to show debug information 'V' ['D', 'M', 'U', 'T', 'R', 'B', 'V', 'DA', 'UA', 'RA', 'BSA', 'BEA', 'BBA']\n",
    "}\n",
    "\n",
    "from ipywidgets import interact, interactive, fixed, interact_manual,widgets\n",
    "import numpy as np\n",
    "import pandas as pd\n",
    "from os import listdir\n",
    "import csed_mme_eval.multi_eval\n",
    "import csed_mme_eval.simple_merge\n",
    "from os.path import isfile, join\n",
    "from IPython.display import display, HTML\n",
    "\n",
    "@interact_manual\n",
    "def result_selector(file=sorted([f for f in listdir(rootFolder) if isfile(f\"{rootFolder}/{f}/real.tsv\")]),fuzzy_extend=widgets.FloatSlider(value=1,max=10)):\n",
    "    if(file==None):return\n",
    "    kwargs['fuzzy_extend']=fuzzy_extend\n",
    "    folder=f'{rootFolder}/{file}'\n",
    "    gtf=f'{folder}/real.tsv'\n",
    "    groundtruth=csed_mme_eval.simple_merge.merge(pd.read_csv(gtf,delimiter='\\t'))\n",
    "\n",
    "    total_dic={}\n",
    "    for team in sorted(os.listdir(f'{folder}')):\n",
    "            if(team=='real.tsv'):continue\n",
    "            print(f'    {team}')\n",
    "            pef = f'{folder}/{team}'\n",
    "            print(pef)\n",
    "            try:\n",
    "                title=team.replace('.tsv','')\n",
    "                pred=csed_mme_eval.simple_merge.merge(pd.read_csv(pef,delimiter='\\t'))\n",
    "#                 display(groundtruth.loc[groundtruth['filename']=='FFIo9fIC3Wg_30000'])\n",
    "#                 display(pred.loc[pred['filename']=='FFIo9fIC3Wg_30000'])\n",
    "                res1=csed_mme_eval.multi_eval.get_single_result_df(groundtruth,pred,None,**kwargs)\n",
    "                for c in res1:\n",
    "                    print(f'eval={c}')\n",
    "                    display(pd.DataFrame(res1[c]))\n",
    "                \n",
    "                total_dic[title]=res1\n",
    "            except Exception as e:\n",
    "                print('Error! submission is ignored',e)\n",
    "                raise\n",
    "\n",
    "    # fs={s:{c:total_dic[s][c].loc['macro-avg']['f1']  for c in total_dic[s]} for s in total_dic  }\n",
    "    # total=pd.DataFrame(fs).T\n",
    "    \n",
    "    fs={s:{c:{m:total_dic[s][c].loc['macro-avg'][m] for m in total_dic[s][c]} for c in total_dic[s]} for s in total_dic  }\n",
    "    for s in fs:\n",
    "        print(f\"{s}:\")\n",
    "        total=pd.DataFrame(fs[s]).T\n",
    "        display(total)"
   ]
  },
  {
   "cell_type": "code",
   "execution_count": 7,
   "metadata": {
    "ExecuteTime": {
     "end_time": "2021-10-03T21:28:05.501313Z",
     "start_time": "2021-10-03T21:28:05.497957Z"
    }
   },
   "outputs": [
    {
     "data": {
      "text/plain": [
       "1"
      ]
     },
     "execution_count": 7,
     "metadata": {},
     "output_type": "execute_result"
    }
   ],
   "source": [
    "a=[1,2]\n",
    "b=np.array(a)\n",
    "# b.reshape(1,2)\n",
    "len(b.shape)"
   ]
  },
  {
   "cell_type": "code",
   "execution_count": 7,
   "metadata": {
    "ExecuteTime": {
     "end_time": "2021-10-03T20:43:20.840134Z",
     "start_time": "2021-10-03T20:43:20.836418Z"
    }
   },
   "outputs": [
    {
     "data": {
      "text/plain": [
       "dict_keys(['D', 'M', 'U', 'T', 'R', 'B', 'V', 'DA', 'UA', 'RA', 'BSA', 'BEA', 'BBA'])"
      ]
     },
     "execution_count": 7,
     "metadata": {},
     "output_type": "execute_result"
    }
   ],
   "source": []
  },
  {
   "cell_type": "code",
   "execution_count": 7,
   "metadata": {
    "ExecuteTime": {
     "end_time": "2021-10-02T19:24:15.451602Z",
     "start_time": "2021-10-02T19:24:15.443435Z"
    }
   },
   "outputs": [
    {
     "data": {
      "text/html": [
       "<div>\n",
       "<style scoped>\n",
       "    .dataframe tbody tr th:only-of-type {\n",
       "        vertical-align: middle;\n",
       "    }\n",
       "\n",
       "    .dataframe tbody tr th {\n",
       "        vertical-align: top;\n",
       "    }\n",
       "\n",
       "    .dataframe thead th {\n",
       "        text-align: right;\n",
       "    }\n",
       "</style>\n",
       "<table border=\"1\" class=\"dataframe\">\n",
       "  <thead>\n",
       "    <tr style=\"text-align: right;\">\n",
       "      <th></th>\n",
       "      <th>A</th>\n",
       "      <th>B</th>\n",
       "      <th>C</th>\n",
       "    </tr>\n",
       "  </thead>\n",
       "  <tbody>\n",
       "    <tr>\n",
       "      <th>0</th>\n",
       "      <td>[0, 1, 2]</td>\n",
       "      <td>1</td>\n",
       "      <td>[a, b, c]</td>\n",
       "    </tr>\n",
       "    <tr>\n",
       "      <th>1</th>\n",
       "      <td>foo</td>\n",
       "      <td>1</td>\n",
       "      <td>NaN</td>\n",
       "    </tr>\n",
       "    <tr>\n",
       "      <th>2</th>\n",
       "      <td>[]</td>\n",
       "      <td>1</td>\n",
       "      <td>1</td>\n",
       "    </tr>\n",
       "    <tr>\n",
       "      <th>3</th>\n",
       "      <td>[3, 4]</td>\n",
       "      <td>1</td>\n",
       "      <td>[d, e]</td>\n",
       "    </tr>\n",
       "  </tbody>\n",
       "</table>\n",
       "</div>"
      ],
      "text/plain": [
       "           A  B          C\n",
       "0  [0, 1, 2]  1  [a, b, c]\n",
       "1        foo  1        NaN\n",
       "2         []  1          1\n",
       "3     [3, 4]  1     [d, e]"
      ]
     },
     "execution_count": 7,
     "metadata": {},
     "output_type": "execute_result"
    }
   ],
   "source": [
    "a=[]\n",
    "for k,row in df.iterrows():\n",
    "    a.append(row)\n",
    "    \n",
    "a[2]['C']=1\n",
    "pd.DataFrame(a)"
   ]
  }
 ],
 "metadata": {
  "kernelspec": {
   "display_name": "Python 3",
   "language": "python",
   "name": "python3"
  },
  "language_info": {
   "codemirror_mode": {
    "name": "ipython",
    "version": 3
   },
   "file_extension": ".py",
   "mimetype": "text/x-python",
   "name": "python",
   "nbconvert_exporter": "python",
   "pygments_lexer": "ipython3",
   "version": "3.8.10"
  },
  "toc": {
   "base_numbering": 1,
   "nav_menu": {},
   "number_sections": false,
   "sideBar": true,
   "skip_h1_title": false,
   "title_cell": "Table of Contents",
   "title_sidebar": "Contents",
   "toc_cell": false,
   "toc_position": {},
   "toc_section_display": true,
   "toc_window_display": false
  },
  "varInspector": {
   "cols": {
    "lenName": 16,
    "lenType": 16,
    "lenVar": 40
   },
   "kernels_config": {
    "python": {
     "delete_cmd_postfix": "",
     "delete_cmd_prefix": "del ",
     "library": "var_list.py",
     "varRefreshCmd": "print(var_dic_list())"
    },
    "r": {
     "delete_cmd_postfix": ") ",
     "delete_cmd_prefix": "rm(",
     "library": "var_list.r",
     "varRefreshCmd": "cat(var_dic_list()) "
    }
   },
   "types_to_exclude": [
    "module",
    "function",
    "builtin_function_or_method",
    "instance",
    "_Feature"
   ],
   "window_display": false
  }
 },
 "nbformat": 4,
 "nbformat_minor": 4
}

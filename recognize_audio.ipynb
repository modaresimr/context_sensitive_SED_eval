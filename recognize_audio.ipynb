{
 "cells": [
  {
   "cell_type": "code",
   "execution_count": 4,
   "metadata": {
    "ExecuteTime": {
     "end_time": "2021-09-30T18:34:55.542824Z",
     "start_time": "2021-09-30T18:34:54.154608Z"
    }
   },
   "outputs": [],
   "source": [
    "import os\n",
    "s=\"train\" # 'train' 'eval'\n",
    "rootFolder='data/strong/'  \n",
    "from ipywidgets import interact, interactive, fixed, interact_manual,widgets\n",
    "import IPython\n",
    "import pandas as pd\n",
    "filter_classes=['/m/032s66','/m/07yv9']\n",
    "gt=pd.read_csv(f'{rootFolder}/audioset_{s}_strong.tsv',delimiter='\\t')\n",
    "gt=gt.loc[gt['label'].isin(filter_classes)]\n",
    "class_names=pd.read_csv(f'{rootFolder}/mid_to_display_name.tsv',names=['mid','label'],delimiter='\\t').set_index('mid').to_dict()['label']\n",
    "gt['label_full']=gt['label'].map(class_names)\n",
    "\n",
    "from YamnetEval import YamnetEval\n",
    "yamnet=YamnetEval()\n",
    "yamnet.load()\n"
   ]
  },
  {
   "cell_type": "code",
   "execution_count": 5,
   "metadata": {
    "ExecuteTime": {
     "end_time": "2021-09-30T18:35:00.724601Z",
     "start_time": "2021-09-30T18:34:59.326336Z"
    }
   },
   "outputs": [
    {
     "data": {
      "application/vnd.jupyter.widget-view+json": {
       "model_id": "6a296e6490cb4bbaaceabf38fc606a6f",
       "version_major": 2,
       "version_minor": 0
      },
      "text/plain": [
       "interactive(children=(Dropdown(description='f', options=('psQ_1Vj5UYI_80000.m4a', 'Hga0ONzdH_A_310000.m4a', '0…"
      ]
     },
     "metadata": {},
     "output_type": "display_data"
    }
   ],
   "source": [
    "@interact\n",
    "def result_selector(f=os.listdir(f'{rootFolder}/{s}_m4a/')):\n",
    "    print(f)\n",
    "    file=f.split('.')[0]\n",
    "    IPython.display.display(gt.loc[gt['segment_id']==file][['label_full','start_time_seconds','end_time_seconds']])\n",
    "    result=yamnet.process(f'{rootFolder}{s}_m4a/{f}')\n",
    "    IPython.display.display(result)"
   ]
  },
  {
   "cell_type": "code",
   "execution_count": 23,
   "metadata": {
    "ExecuteTime": {
     "end_time": "2021-09-30T18:53:15.344542Z",
     "start_time": "2021-09-30T18:53:15.335575Z"
    }
   },
   "outputs": [
    {
     "data": {
      "text/html": [
       "<div>\n",
       "<style scoped>\n",
       "    .dataframe tbody tr th:only-of-type {\n",
       "        vertical-align: middle;\n",
       "    }\n",
       "\n",
       "    .dataframe tbody tr th {\n",
       "        vertical-align: top;\n",
       "    }\n",
       "\n",
       "    .dataframe thead th {\n",
       "        text-align: right;\n",
       "    }\n",
       "</style>\n",
       "<table border=\"1\" class=\"dataframe\">\n",
       "  <thead>\n",
       "    <tr style=\"text-align: right;\">\n",
       "      <th></th>\n",
       "      <th>a</th>\n",
       "      <th>segment_id</th>\n",
       "      <th>start_time_seconds</th>\n",
       "      <th>end_time_seconds</th>\n",
       "      <th>label_full</th>\n",
       "    </tr>\n",
       "  </thead>\n",
       "  <tbody>\n",
       "    <tr>\n",
       "      <th>610003</th>\n",
       "      <td>b</td>\n",
       "      <td>Hga0ONzdH_A_310000</td>\n",
       "      <td>5.395</td>\n",
       "      <td>6.787</td>\n",
       "      <td>Gunshot, gunfire</td>\n",
       "    </tr>\n",
       "    <tr>\n",
       "      <th>610005</th>\n",
       "      <td>b</td>\n",
       "      <td>Hga0ONzdH_A_310000</td>\n",
       "      <td>7.291</td>\n",
       "      <td>7.667</td>\n",
       "      <td>Gunshot, gunfire</td>\n",
       "    </tr>\n",
       "    <tr>\n",
       "      <th>610006</th>\n",
       "      <td>b</td>\n",
       "      <td>Hga0ONzdH_A_310000</td>\n",
       "      <td>9.248</td>\n",
       "      <td>9.624</td>\n",
       "      <td>Gunshot, gunfire</td>\n",
       "    </tr>\n",
       "  </tbody>\n",
       "</table>\n",
       "</div>"
      ],
      "text/plain": [
       "        a          segment_id  start_time_seconds  end_time_seconds  \\\n",
       "610003  b  Hga0ONzdH_A_310000               5.395             6.787   \n",
       "610005  b  Hga0ONzdH_A_310000               7.291             7.667   \n",
       "610006  b  Hga0ONzdH_A_310000               9.248             9.624   \n",
       "\n",
       "              label_full  \n",
       "610003  Gunshot, gunfire  \n",
       "610005  Gunshot, gunfire  \n",
       "610006  Gunshot, gunfire  "
      ]
     },
     "execution_count": 23,
     "metadata": {},
     "output_type": "execute_result"
    }
   ],
   "source": [
    "file='Hga0ONzdH_A_310000'\n",
    "gtt=gt.loc[gt['segment_id']==file][['segment_id','start_time_seconds','end_time_seconds','label_full']]\n",
    "gtt.insert(0,'a','b')\n",
    "gtt"
   ]
  }
 ],
 "metadata": {
  "kernelspec": {
   "display_name": "Python 3",
   "language": "python",
   "name": "python3"
  },
  "language_info": {
   "codemirror_mode": {
    "name": "ipython",
    "version": 3
   },
   "file_extension": ".py",
   "mimetype": "text/x-python",
   "name": "python",
   "nbconvert_exporter": "python",
   "pygments_lexer": "ipython3",
   "version": "3.8.5"
  },
  "toc": {
   "base_numbering": 1,
   "nav_menu": {},
   "number_sections": false,
   "sideBar": true,
   "skip_h1_title": false,
   "title_cell": "Table of Contents",
   "title_sidebar": "Contents",
   "toc_cell": false,
   "toc_position": {},
   "toc_section_display": true,
   "toc_window_display": false
  },
  "varInspector": {
   "cols": {
    "lenName": 16,
    "lenType": 16,
    "lenVar": 40
   },
   "kernels_config": {
    "python": {
     "delete_cmd_postfix": "",
     "delete_cmd_prefix": "del ",
     "library": "var_list.py",
     "varRefreshCmd": "print(var_dic_list())"
    },
    "r": {
     "delete_cmd_postfix": ") ",
     "delete_cmd_prefix": "rm(",
     "library": "var_list.r",
     "varRefreshCmd": "cat(var_dic_list()) "
    }
   },
   "types_to_exclude": [
    "module",
    "function",
    "builtin_function_or_method",
    "instance",
    "_Feature"
   ],
   "window_display": false
  }
 },
 "nbformat": 4,
 "nbformat_minor": 4
}
